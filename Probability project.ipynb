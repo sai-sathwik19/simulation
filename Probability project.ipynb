{
  "nbformat": 4,
  "nbformat_minor": 0,
  "metadata": {
    "colab": {
      "provenance": []
    },
    "kernelspec": {
      "name": "python3",
      "display_name": "Python 3"
    },
    "language_info": {
      "name": "python"
    }
  },
  "cells": [
    {
      "cell_type": "code",
      "source": [
        "import numpy as np\n",
        "import random\n",
        "# Function to simulate the Monty Hall Game with 5 doors\n",
        "def monty_hall_simulation(door_probabilities):\n",
        "\n",
        "    trials = 100000\n",
        "    stay_wins = 0\n",
        "    switch_wins = 0\n",
        "\n",
        "    # Running multiple simulations to calculate the probabilities\n",
        "    for _ in range(trials):\n",
        "        #finding the maximum probabilty door\n",
        "        car_door_index = door_probabilities.index(max(door_probabilities))\n",
        "\n",
        "        # Initialize doors: 5 doors, all containing goats initially and allocating car behind the maximum probability door\n",
        "        doors = [\"Goat\"] * 5\n",
        "        doors[car_door_index] = \"Car\"\n",
        "\n",
        "        pick = random.randint(0, 4)\n",
        "\n",
        "        # Identify doors that are neither the car door nor the player's pick\n",
        "        unpicked_goat_door_indices = []\n",
        "        for i in range(5):\n",
        "            if i != car_door_index and i != pick:\n",
        "                unpicked_goat_door_indices.append(i)\n",
        "\n",
        "        # Host opens 3 doors that contain goats\n",
        "        host_opens_door_indices = random.sample(unpicked_goat_door_indices, 3)\n",
        "\n",
        "        # Determine the remaining closed door available for switching\n",
        "        remaining_doors = []\n",
        "        for i in range(5):\n",
        "            if i not in host_opens_door_indices and i != pick:\n",
        "                remaining_doors.append(i)\n",
        "\n",
        "        # Since only one door remains, the switch door is the only option left\n",
        "        switch_door_index = remaining_doors[0]\n",
        "\n",
        "        # Check if staying wins (player's initial pick was the car)\n",
        "        if pick == car_door_index:\n",
        "            stay_wins += 1\n",
        "\n",
        "        # Check if switching wins (the remaining door contains the car)\n",
        "        if switch_door_index == car_door_index:\n",
        "            switch_wins += 1\n",
        "\n",
        "    # Return the probabilities of winning when staying and switching\n",
        "    return stay_wins / trials, switch_wins / trials"
      ],
      "metadata": {
        "id": "yuZyqkHkVF1C"
      },
      "execution_count": null,
      "outputs": []
    },
    {
      "cell_type": "code",
      "source": [
        "random_values = [random.uniform(0, 1) for _ in range(5)]  #generating 5 random values uniformly in 0-1\n",
        "total = sum(random_values)\n",
        "random_door_probabilities = [x / total for x in random_values]  #normalizing the random values to satisfy probability law"
      ],
      "metadata": {
        "id": "VKimQHu1VPTR"
      },
      "execution_count": null,
      "outputs": []
    },
    {
      "cell_type": "code",
      "source": [
        "stay_win_probability,switch_win_probability = monty_hall_simulation(random_door_probabilities)\n",
        "\n",
        "print(f\"Probability of winning if staying(random probabilities): {stay_win_probability:.4f}\")\n",
        "print(f\"Probability of winning if switching(random probabilities): {switch_win_probability:.4f}\")\n",
        "print(\"\\n\")\n",
        "\n",
        "equal_door_probabilities = [1/5] * 5\n",
        "stay_win_probability,switch_win_probability = monty_hall_simulation(equal_door_probabilities)\n",
        "print(f\"Probability of winning if staying(equal probabilities): {stay_win_probability:.4f}\")\n",
        "print(f\"Probability of winning if switching(equal probabilities): {switch_win_probability:.4f}\")"
      ],
      "metadata": {
        "colab": {
          "base_uri": "https://localhost:8080/"
        },
        "id": "nnmw1fGoVWdU",
        "outputId": "7704468d-dcdc-40ef-f772-5bf99bc39660"
      },
      "execution_count": null,
      "outputs": [
        {
          "output_type": "stream",
          "name": "stdout",
          "text": [
            "Probability of winning if staying(random probabilities): 0.1997\n",
            "Probability of winning if switching(random probabilities): 0.8003\n",
            "\n",
            "\n",
            "Probability of winning if staying(equal probabilities): 0.1991\n",
            "Probability of winning if switching(equal probabilities): 0.8009\n"
          ]
        }
      ]
    },
    {
      "cell_type": "markdown",
      "source": [
        "#Comparing the probablities.\n",
        "Comparing scenarios with equal and random door probabilities reveals no significant difference in outcomes for staying or switching.\n",
        "* Probability of winning while switching is approximatly equal to 0.8.\n",
        "* Probability of winning whicle staying is approximatly equal to 0.2.\n",
        "\n",
        "By the following data we can observe that probability for switching is more than that of staying\n",
        "###Therefore switching is always a better strategy for winning."
      ],
      "metadata": {
        "id": "pOq-ryD6Vg-1"
      }
    },
    {
      "cell_type": "markdown",
      "source": [
        "# Problem Statement\n",
        "\n",
        "Determine the probability that a triangle formed by three random points on the circumference of a circle contains the center of the circle.\n",
        "\n",
        "## Logic used\n",
        "\n",
        "### 1. Random Point Generation\n",
        "\n",
        "* Generate three random angles $\\theta_1$, $\\theta_2$, $\\theta_3$ such that $0^{\\circ} \\leq \\theta_i < 360^{\\circ}$ This uniquely generates a point on circles circumference which is centred at (0, 0) with radius 10 units.\n",
        "\n",
        "### 2. Condition for Center Inclusion\n",
        "\n",
        "* **Key Insight:** The center of the circle lies inside the triangle if and only if the triangle formed by the three points is not an obtuse angled triangle\n",
        "\n",
        "* **why:** The triangle formed by three points on the circle is a obtuse angled triangle then the circum centre lies outside the triangle\n",
        "\n",
        "### 3. Checking If Center Is Inside The Triangle Formed By Three Randomly Generated Points\n",
        "\n",
        "* Finding the lengths of sides of triangles\n",
        "* Now find the angles of triangle by using cosines rule\n",
        "\n",
        "    $cos(\\theta) = \\frac{b^2 + c^2 - a^2}{2bc}$    \n",
        "* If any of the angle is greater than $90^{\\circ}$ then the triangle is obtuse angled triangle\n",
        "*if the triangle is obtuse angled triangle then the circumcentre lies outside the triangle\n",
        "\n",
        "### 4. Repeating the experiment 10000 times\n",
        "\n",
        "* Repeat the experiment $10000$ times.\n",
        "* In each iteration:\n",
        "    * Generate three random points.\n",
        "    * Check if the triangle contains the center.\n",
        "    * Increment a counter if the triangle contains the center.\n",
        "* Calculate the probability:\n",
        "$$\n",
        "P(\\text{center inside triangle}) = \\frac{\\text{Number of triangles containing the center}}{10000}\n",
        "$$\n",
        "\n",
        "## Expected Result\n",
        "\n",
        "The estimated probability from the simulation is approximately 0.25."
      ],
      "metadata": {
        "id": "F6w7OkBcMbGB"
      }
    },
    {
      "cell_type": "code",
      "source": [
        "import math\n",
        "import random\n",
        "\n",
        "radius = 10  # Radius of the circle\n",
        "\n",
        "# Function to generate three random points on the circumference of the circle\n",
        "def generate_points(radius):\n",
        "\n",
        "   # Random angle in degrees\n",
        "  theta1 = random.uniform(0, 360)\n",
        "  theta2 = random.uniform(0, 360)\n",
        "  theta3 = random.uniform(0, 360)\n",
        "\n",
        "  # (X, Y)-coordinates of the first point\n",
        "  x1 = radius * math.cos(math.radians(theta1))\n",
        "  y1 = radius * math.sin(math.radians(theta1))\n",
        "\n",
        "  # (X, Y)-coordinates of the second point\n",
        "  x2 = radius * math.cos(math.radians(theta2))\n",
        "  y2 = radius * math.sin(math.radians(theta2))\n",
        "\n",
        "  # (X, Y)-coordinates of the third point\n",
        "  x3 = radius * math.cos(math.radians(theta3))\n",
        "  y3 = radius * math.sin(math.radians(theta3))\n",
        "\n",
        "  list1 = [x1, y1]\n",
        "  list2 = [x2, y2]\n",
        "  list3 = [x3, y3]\n",
        "\n",
        "  # Returning the three randomly generated points on circle\n",
        "  return list1, list2, list3\n",
        "\n",
        "# Function to calculate the distance between two points\n",
        "def distance_points(list1, list2):\n",
        "  distance = math.sqrt((list1[0] - list2[0])**2 + (list1[1] - list2[1])**2)\n",
        "  return distance\n",
        "\n",
        "# Function to check if the triangle formed by three points is obtuse\n",
        "def obtuse_triangle(list1, list2, list3):\n",
        "\n",
        "  #Length of sides of triangle\n",
        "  side_1 = distance_points(list1, list2)\n",
        "  side_2 = distance_points(list2, list3)\n",
        "  side_3 = distance_points(list3, list1)\n",
        "\n",
        "  # Using the cosine rule to check the angles\n",
        "  cos_theta_1 = (side_2**2 + side_3**2 - side_1**2) / (2 * side_2 * side_3)\n",
        "  cos_theta_2 = (side_1**2 + side_3**2 - side_2**2) / (2 * side_1 * side_3)\n",
        "  cos_theta_3 = (side_1**2 + side_2**2 - side_3**2) / (2 * side_1 * side_2)\n",
        "\n",
        "  # If any of the cosine values are less than or equal to 0, the triangle is obtuse\n",
        "  if((cos_theta_1 <= 0) or (cos_theta_2 <= 0) or (cos_theta_3 <= 0)):\n",
        "    return False\n",
        "\n",
        "  return True\n",
        "\n",
        "# Function to calculate the probability of forming an obtuse triangle\n",
        "def caluculate_probability(radius):\n",
        "  count = 0  # Counter for obtuse triangles\n",
        "\n",
        "  # Running this process 10,000 times\n",
        "  for i in range(10000):\n",
        "    list1, list2, list3 = generate_points(radius)\n",
        "    if obtuse_triangle(list1, list2, list3):\n",
        "      count += 1\n",
        "\n",
        "  # Calculating the probability\n",
        "  probability = count / 10000\n",
        "  return probability\n",
        "\n",
        "# Calculating the probability for the given radius\n",
        "probability = caluculate_probability(radius)\n",
        "\n",
        "# Printing the probability\n",
        "print(\"The probability that a triangle formed by three random points on the circumference of a circle contains the center of the circle is :\")\n",
        "print(probability)"
      ],
      "metadata": {
        "colab": {
          "base_uri": "https://localhost:8080/"
        },
        "id": "OaQ5xKZpMnvr",
        "outputId": "749fdc71-09e8-40c5-c1b1-bd7523316830"
      },
      "execution_count": null,
      "outputs": [
        {
          "output_type": "stream",
          "name": "stdout",
          "text": [
            "The probability that a triangle formed by three random points on the circumference of a circle contains the center of the circle is :\n",
            "0.2464\n"
          ]
        }
      ]
    },
    {
      "cell_type": "code",
      "source": [],
      "metadata": {
        "id": "tE_XmbFq5Vr5"
      },
      "execution_count": null,
      "outputs": []
    }
  ]
}